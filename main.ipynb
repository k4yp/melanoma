{
 "cells": [
  {
   "cell_type": "code",
   "execution_count": 42,
   "metadata": {},
   "outputs": [],
   "source": [
    "import os\n",
    "import numpy as np\n",
    "import pandas as pd\n",
    "import matplotlib.pyplot as plt\n",
    "\n",
    "from keras.utils import load_img\n",
    "from keras import models, regularizers, layers, optimizers, losses, metrics\n",
    "from keras.models import Sequential\n",
    "from keras.layers import Dense\n",
    "from keras.preprocessing.image import ImageDataGenerator\n",
    "from keras.applications import ResNet50"
   ]
  },
  {
   "cell_type": "code",
   "execution_count": 43,
   "metadata": {},
   "outputs": [],
   "source": [
    "PATH = \"C:\\data\\melanoma\"\n",
    "\n",
    "PATH_TRAIN = PATH + '/train/'\n",
    "PATH_VALID = PATH + '/valid/'\n",
    "PATH_TEST = PATH + '/test/'"
   ]
  },
  {
   "cell_type": "code",
   "execution_count": null,
   "metadata": {},
   "outputs": [],
   "source": [
    "def dataset(path, type):\n",
    "    labels = os.listdir(path)\n",
    "    total = 0\n",
    "    for label in labels:\n",
    "        print(label,len(os.listdir(path + label)))\n",
    "        total += len(os.listdir(path + label))\n",
    "\n",
    "    print(type,\"training photos \", total)\n",
    "    print (\"\\n\")\n",
    "\n",
    "dataset(PATH_TRAIN, \"train\")\n",
    "dataset(PATH_VALID, \"train\")\n",
    "dataset(PATH_TEST, \"train\")"
   ]
  },
  {
   "cell_type": "code",
   "execution_count": null,
   "metadata": {},
   "outputs": [],
   "source": [
    "def dataset_display(path, sample, cat):\n",
    "    image_dir = path + '/' + cat + '/'\n",
    "    img_name = os.listdir(image_dir)[sample]\n",
    "    img_path = image_dir + img_name\n",
    "    img = load_img(img_path, target_size=(224, 224))\n",
    "    imgplot = plt.imshow(img)\n",
    "    print(path, \"photo number\", sample)\n",
    "    plt.show()\n",
    "\n",
    "dataset_display(PATH_TRAIN, 77, 'melanoma')\n",
    "dataset_display(PATH_VALID, 77, 'melanoma')\n",
    "dataset_display(PATH_TEST, 77, 'melanoma')"
   ]
  },
  {
   "cell_type": "code",
   "execution_count": 46,
   "metadata": {},
   "outputs": [],
   "source": [
    "conv_base = ResNet50(weights='imagenet',\n",
    "                     include_top=False,\n",
    "                     input_shape=(224, 224, 3))"
   ]
  },
  {
   "cell_type": "code",
   "execution_count": null,
   "metadata": {},
   "outputs": [],
   "source": [
    "model = models.Sequential()\n",
    "model.add(conv_base)\n",
    "model.add(layers.Flatten())\n",
    "model.add(layers.Dropout(0.5))\n",
    "model.add(layers.Dense(64, activation='relu',kernel_regularizer=regularizers.l2(0.001)))\n",
    "model.add(layers.Dropout(0.5))\n",
    "model.add(layers.Dense(2, activation='sigmoid'))\n",
    "\n",
    "print(model.summary())"
   ]
  },
  {
   "cell_type": "code",
   "execution_count": null,
   "metadata": {},
   "outputs": [],
   "source": [
    "model.compile(optimizer=optimizers.Adam(),\n",
    "              loss='binary_crossentropy',\n",
    "              metrics=['accuracy'])\n",
    "\n",
    "print(model.summary())"
   ]
  },
  {
   "cell_type": "code",
   "execution_count": null,
   "metadata": {},
   "outputs": [],
   "source": [
    "batch_size = 20\n",
    "target_size = (224, 224)\n",
    "\n",
    "train_datagen = ImageDataGenerator(rescale=1./255,\n",
    "                                   rotation_range=40,\n",
    "                                   width_shift_range=0.2,\n",
    "                                   height_shift_range=0.2,\n",
    "                                   shear_range=0.2,\n",
    "                                   zoom_range=0.2,\n",
    "                                   horizontal_flip=True,\n",
    "                                   vertical_flip=True,\n",
    "                                   fill_mode='nearest')\n",
    "\n",
    "test_datagen = ImageDataGenerator(rescale=1./255)\n",
    "\n",
    "train_gen = train_datagen.flow_from_directory(PATH_TRAIN,\n",
    "                                              target_size=target_size,\n",
    "                                              batch_size=batch_size)\n",
    "\n",
    "valid_gen = test_datagen.flow_from_directory(PATH_VALID,\n",
    "                                             target_size=target_size,\n",
    "                                             batch_size=batch_size)\n",
    "\n",
    "test_gen = test_datagen.flow_from_directory(PATH_TEST,\n",
    "                                            target_size=target_size,\n",
    "                                            batch_size=batch_size)"
   ]
  },
  {
   "cell_type": "code",
   "execution_count": null,
   "metadata": {},
   "outputs": [],
   "source": [
    "history = model.fit_generator(train_gen,\n",
    "                              epochs=3,\n",
    "                              steps_per_epoch = 10682 // batch_size,\n",
    "                              validation_data = valid_gen,\n",
    "                              validation_steps = 3562 // batch_size)"
   ]
  }
 ],
 "metadata": {
  "interpreter": {
   "hash": "369f2c481f4da34e4445cda3fffd2e751bd1c4d706f27375911949ba6bb62e1c"
  },
  "kernelspec": {
   "display_name": "Python 3.10.4 64-bit (system)",
   "language": "python",
   "name": "python3"
  },
  "language_info": {
   "codemirror_mode": {
    "name": "ipython",
    "version": 3
   },
   "file_extension": ".py",
   "mimetype": "text/x-python",
   "name": "python",
   "nbconvert_exporter": "python",
   "pygments_lexer": "ipython3",
   "version": "3.10.4"
  },
  "orig_nbformat": 4
 },
 "nbformat": 4,
 "nbformat_minor": 2
}
